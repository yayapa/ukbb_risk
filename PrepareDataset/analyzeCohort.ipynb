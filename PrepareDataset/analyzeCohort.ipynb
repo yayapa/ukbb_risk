{
 "cells": [
  {
   "cell_type": "code",
   "execution_count": null,
   "id": "initial_id",
   "metadata": {
    "collapsed": true,
    "jupyter": {
     "outputs_hidden": true
    }
   },
   "outputs": [],
   "source": [
    "from PrepareDataset.ICDExtractor import ICDExtractor\n",
    "from PrepareDataset.NormalControlExtractor import NormalControlExtractor\n",
    "import pandas as pd\n",
    "import os "
   ]
  },
  {
   "cell_type": "code",
   "execution_count": null,
   "id": "9b3077cc65093f64",
   "metadata": {
    "collapsed": false
   },
   "outputs": [],
   "source": [
    "sex_field = [\"31-0.0\"]\n",
    "age_field = [\"21003-2.0\"]\n",
    "bmi_field = [\"21001-2.0\"]\n",
    "ethnicity = ['21000-0.0']"
   ]
  },
  {
   "cell_type": "code",
   "execution_count": null,
   "id": "470758945051bf5e",
   "metadata": {
    "collapsed": false
   },
   "outputs": [],
   "source": [
    "#file_path_imaging = '../data/data/tabular/ukb668815_imaging.csv'\n",
    "#icd_code_dict_file_path = r\"./resources/icd_code_dict_imaging.json\"\n",
    "\n",
    "file_path_imaging = '../data/data/tabular/ukb668815.csv'\n",
    "icd_code_dict_file_path = r\"./resources/icd_code_dict_imaging.json\"\n",
    "\n",
    "icdExtractor = ICDExtractor(file_path_imaging, icd_code_dict_file_path)\n",
    "icdExtractor.load_icd_code_dict()"
   ]
  },
  {
   "cell_type": "code",
   "execution_count": null,
   "outputs": [],
   "source": [
    "#file_path_imaging = '../data/data/tabular/ukb668815_imaging.csv'\n",
    "#icd_code_dict_file_path = r\"./resources/icd_code_dict_imaging.json\"\n",
    "\n",
    "file_path_imaging = '../data/data/tabular/ukb668815.csv'\n",
    "icd_code_dict_file_path = r\"./resources/icd_code_dict.json\"\n",
    "\n",
    "icdExtractor2 = ICDExtractor(file_path_imaging, icd_code_dict_file_path)\n",
    "icdExtractor2.load_icd_code_dict()"
   ],
   "metadata": {
    "collapsed": false
   },
   "id": "6c3df6db25ff9cf4"
  },
  {
   "cell_type": "markdown",
   "source": [],
   "metadata": {
    "collapsed": false
   },
   "id": "79b4ac2a23498ec0"
  },
  {
   "cell_type": "code",
   "execution_count": null,
   "outputs": [],
   "source": [
    "len(icdExtractor2.icd_code_dict)"
   ],
   "metadata": {
    "collapsed": false
   },
   "id": "14500603d2fe9b50"
  },
  {
   "cell_type": "code",
   "execution_count": null,
   "outputs": [],
   "source": [
    "len(icdExtractor.icd_code_dict)"
   ],
   "metadata": {
    "collapsed": false
   },
   "id": "ce30b4a0b91e895b"
  },
  {
   "cell_type": "code",
   "execution_count": null,
   "outputs": [],
   "source": [
    "def get_class_distribution(class_types, group, icd_origin=[\"secondary\"]):\n",
    "    class_types_distribution = {}\n",
    "    for eid in group['eid']:\n",
    "        if eid not in icdExtractor.icd_code_dict.keys():\n",
    "            print(f\"eid {eid} not found in icd code dict\")\n",
    "            continue\n",
    "        icd_code_min = None\n",
    "        icd_code_date_min = None\n",
    "        icd_code_type_min = None\n",
    "        \n",
    "        for i, icd_code in enumerate(icdExtractor.icd_code_dict[eid]['icd_codes']):\n",
    "            for class_type in class_types.keys():\n",
    "                for icd_code_pattern in class_types[class_type]:\n",
    "                    if icdExtractor.icd_code_dict[eid]['icd_origin'][i] in icd_origin:\n",
    "                        if icd_code in icd_code_pattern:\n",
    "                            if icd_code_min is None:\n",
    "                                icd_code_min = icd_code\n",
    "                                icd_code_date_min = icdExtractor.icd_code_dict[eid]['icd_dates'][i]\n",
    "                                icd_code_type_min = class_type\n",
    "                            else:\n",
    "                                if (icd_code_date_min > icdExtractor.icd_code_dict[eid]['icd_dates'][i]) or (icd_code_date_min == icdExtractor.icd_code_dict[eid]['icd_dates'][i]):# and class_type != \"c44\" and class_type != \"skin_wo_c44\"):\n",
    "                                    icd_code_min = icd_code\n",
    "                                    icd_code_date_min = icdExtractor.icd_code_dict[eid]['icd_dates'][i]\n",
    "                                    icd_code_type_min = class_type\n",
    "        if icd_code_type_min is None:\n",
    "            print(icdExtractor.icd_code_dict[eid]['icd_codes'])\n",
    "        if icd_code_type_min not in class_types_distribution.keys():\n",
    "            class_types_distribution[icd_code_type_min] = 1\n",
    "        else:\n",
    "            class_types_distribution[icd_code_type_min] += 1\n",
    "    return class_types_distribution\n",
    "\n",
    " "
   ],
   "metadata": {
    "collapsed": false
   },
   "id": "7b2565aaae67ec6d"
  },
  {
   "cell_type": "code",
   "execution_count": null,
   "outputs": [],
   "source": [
    "def get_class_eid(class_types, group, icd_origin=[\"secondary\"]):\n",
    "    class_types_distribution = {}\n",
    "    for eid in group['eid']:\n",
    "        if eid not in icdExtractor.icd_code_dict.keys():\n",
    "            print(f\"eid {eid} not found in icd code dict\")\n",
    "            continue\n",
    "        icd_code_min = None\n",
    "        icd_code_date_min = None\n",
    "        icd_code_type_min = None\n",
    "        icd_eid = None\n",
    "        \n",
    "        for i, icd_code in enumerate(icdExtractor.icd_code_dict[eid]['icd_codes']):\n",
    "            for class_type in class_types.keys():\n",
    "                for icd_code_pattern in class_types[class_type]:\n",
    "                    if icdExtractor.icd_code_dict[eid]['icd_origin'][i] in icd_origin:\n",
    "                        if icd_code in icd_code_pattern:\n",
    "                            if icd_code_min is None:\n",
    "                                icd_code_min = icd_code\n",
    "                                icd_code_date_min = icdExtractor.icd_code_dict[eid]['icd_dates'][i]\n",
    "                                icd_code_type_min = class_type\n",
    "                                icd_eid = eid\n",
    "                            else:\n",
    "                                if (icd_code_date_min > icdExtractor.icd_code_dict[eid]['icd_dates'][i]) or (icd_code_date_min == icdExtractor.icd_code_dict[eid]['icd_dates'][i]):# and class_type != \"c44\" and class_type != \"skin_wo_c44\"):\n",
    "                                    icd_code_min = icd_code\n",
    "                                    icd_code_date_min = icdExtractor.icd_code_dict[eid]['icd_dates'][i]\n",
    "                                    icd_code_type_min = class_type\n",
    "                                    icd_eid = eid\n",
    "        if icd_code_type_min is None:\n",
    "            print(icdExtractor.icd_code_dict[eid]['icd_codes'])\n",
    "        if icd_code_type_min not in class_types_distribution.keys():\n",
    "            class_types_distribution[icd_code_type_min] = [icd_eid]\n",
    "        else:\n",
    "            class_types_distribution[icd_code_type_min] += [icd_eid]\n",
    "    return class_types_distribution\n",
    "\n",
    " "
   ],
   "metadata": {
    "collapsed": false
   },
   "id": "5b3039e54fd7c2c"
  },
  {
   "cell_type": "code",
   "execution_count": null,
   "outputs": [],
   "source": [
    "# PANCREAS"
   ],
   "metadata": {
    "collapsed": false
   },
   "id": "6b7bc2e495f39ba0"
  },
  {
   "cell_type": "markdown",
   "source": [
    "## CVD all\n"
   ],
   "metadata": {
    "collapsed": false
   },
   "id": "8dadddc718224a25"
  },
  {
   "cell_type": "code",
   "execution_count": null,
   "outputs": [],
   "source": [
    "matched_dataset = pd.read_csv(\"./resources/cvd_all/matched_dataset.csv\")\n",
    "positive_group = matched_dataset[matched_dataset['status'] == 1]\n",
    "control_group = matched_dataset[matched_dataset['status'] == 0]"
   ],
   "metadata": {
    "collapsed": false
   },
   "id": "c8177ae54ff0fb31"
  },
  {
   "cell_type": "code",
   "execution_count": null,
   "outputs": [],
   "source": [
    "len(positive_group), len(control_group)"
   ],
   "metadata": {
    "collapsed": false
   },
   "id": "692e14347f32bf6"
  },
  {
   "cell_type": "code",
   "execution_count": null,
   "outputs": [],
   "source": [
    "normalControlExtractor = NormalControlExtractor()\n",
    "normalControlExtractor.visualize_sex_distribution(positive_group)\n",
    "normalControlExtractor.visualize_sex_distribution(control_group)"
   ],
   "metadata": {
    "collapsed": false
   },
   "id": "50a0293e25b09c6f"
  },
  {
   "cell_type": "code",
   "execution_count": null,
   "outputs": [],
   "source": [
    "normalControlExtractor.visualize_hist(positive_group, age_field)\n",
    "normalControlExtractor.visualize_hist(control_group, age_field)"
   ],
   "metadata": {
    "collapsed": false
   },
   "id": "bf035945e024c0fc"
  },
  {
   "cell_type": "code",
   "execution_count": null,
   "outputs": [],
   "source": [
    "normalControlExtractor.visualize_hist(positive_group, bmi_field)\n",
    "normalControlExtractor.visualize_hist(control_group, bmi_field)"
   ],
   "metadata": {
    "collapsed": false
   },
   "id": "cdd54246a3d5da3f"
  },
  {
   "cell_type": "markdown",
   "source": [
    "## Cancer All"
   ],
   "metadata": {
    "collapsed": false
   },
   "id": "59fc38f24a16de77"
  },
  {
   "cell_type": "code",
   "execution_count": null,
   "outputs": [],
   "source": [
    "#matched_dataset = pd.read_csv(\"./resources/cancer_all_redefine_better_nc/matched_dataset.csv\")\n",
    "#matched_dataset = pd.read_csv(\"./resources/3m_3y/cancer_3m_3y/matched_dataset.csv\")\n",
    "#matched_dataset = pd.read_csv(\"./resources/3m_3y/cvd2_3m_3y/matched_dataset.csv\")\n",
    "matched_dataset = pd.read_csv(\"./resources/3m_3y/liver_3m_3y/matched_dataset.csv\")\n",
    "positive_group = matched_dataset[matched_dataset['status'] == 1]\n",
    "control_group = matched_dataset[matched_dataset['status'] == 0]"
   ],
   "metadata": {
    "collapsed": false
   },
   "id": "ab737ff8cb279a32"
  },
  {
   "cell_type": "code",
   "execution_count": null,
   "outputs": [],
   "source": [
    "len(positive_group), len(control_group)"
   ],
   "metadata": {
    "collapsed": false
   },
   "id": "3fb4d29c63c050d0"
  },
  {
   "cell_type": "code",
   "execution_count": null,
   "outputs": [],
   "source": [],
   "metadata": {
    "collapsed": false
   },
   "id": "f71aa5df624f7144"
  },
  {
   "cell_type": "code",
   "execution_count": null,
   "outputs": [],
   "source": [
    "normalControlExtractor = NormalControlExtractor()\n",
    "normalControlExtractor.visualize_sex_distribution(positive_group)\n",
    "normalControlExtractor.visualize_sex_distribution(control_group)"
   ],
   "metadata": {
    "collapsed": false
   },
   "id": "4ae3d74d4354e220"
  },
  {
   "cell_type": "code",
   "execution_count": null,
   "outputs": [],
   "source": [
    "normalControlExtractor.visualize_hist(positive_group, age_field)\n",
    "normalControlExtractor.visualize_hist(control_group, age_field)"
   ],
   "metadata": {
    "collapsed": false
   },
   "id": "8336bd81678da738"
  },
  {
   "cell_type": "code",
   "execution_count": null,
   "outputs": [],
   "source": [
    "normalControlExtractor.visualize_hist(positive_group, bmi_field)\n",
    "normalControlExtractor.visualize_hist(control_group, bmi_field)"
   ],
   "metadata": {
    "collapsed": false
   },
   "id": "c36ab0f4e1d3d337"
  },
  {
   "cell_type": "code",
   "execution_count": null,
   "outputs": [],
   "source": [
    "print(positive_group[bmi_field].describe())\n",
    "print(control_group[bmi_field].describe())"
   ],
   "metadata": {
    "collapsed": false
   },
   "id": "22ea83ce1d77fe2d"
  },
  {
   "cell_type": "code",
   "execution_count": null,
   "outputs": [],
   "source": [
    "from utils import get_cancer_types\n",
    "\n",
    "cancer_types = get_cancer_types()\n",
    "for type_cancer, lst in cancer_types.items():\n",
    "    cancer_types[type_cancer] = icdExtractor.extract_icd_codes_from_pattern(lst)\n",
    "cancer_types_distribution = get_class_distribution(cancer_types, positive_group, [\"cancer\"])\n",
    "cancer_types_distribution"
   ],
   "metadata": {
    "collapsed": false
   },
   "id": "bd2c7c2038782e2b"
  },
  {
   "cell_type": "code",
   "execution_count": null,
   "outputs": [],
   "source": [
    "icd_ischemic_heart_disease = [\n",
    "\"I20\", \"I200\", \"I201\", \"I208\", \"I209\", \"I21\", \"I210\", \"I211\", \"I212\", \"I213\", \"I214\", \"I219\",\n",
    "\"I22\", \"I220\", \"I221\", \"I228\", \"I229\", \"I23\", \"I230\", \"I231\", \"I232\", \"I233\", \"I234\", \"I235\",\n",
    "\"I236\", \"I238\", \"I24\", \"I240\", \"I241\", \"I248\", \"I249\", \"I25\", \"I250\", \"I251\", \"I252\", \"I253\",\n",
    "\"I254\", \"I255\", \"I256\", \"I258\", \"I259\"\n",
    "]\n",
    "icd_hypertensive = [\n",
    "    \"I10\", \"I11\", \"I110\", \"I119\", \"I12\", \"I120\", \"I129\", \"I13\", \"I130\", \"I131\", \"I132\", \"I139\",\n",
    "    \"I50\", \"I500\", \"I501\", \"I509\"\n",
    "]\n",
    "icd_stroke = [\n",
    "    \"I60\", \"I600\", \"I601\", \"I602\", \"I603\", \"I604\", \"I605\", \"I606\", \"I607\", \"I608\", \"I609\",\n",
    "    \"I61\", \"I610\", \"I611\", \"I612\", \"I613\", \"I614\", \"I615\", \"I616\", \"I618\", \"I619\",\n",
    "    \"I63\", \"I630\", \"I631\", \"I632\", \"I633\", \"I634\", \"I635\", \"I636\", \"I638\", \"I639\",\n",
    "    \"I64\", \"stroke\"\n",
    "]\n",
    "icd_myoinfraction = [\n",
    "    \"myoinfraction\"\n",
    "]\n",
    "\n",
    "cvd2_types = {\n",
    "    \"Ischemic Heart Disease\": icd_ischemic_heart_disease,\n",
    "    \"Hypertension\": icd_hypertensive,\n",
    "    \"Stroke\": icd_stroke, \n",
    "    \"Myocardial Infarction\": icd_myoinfraction,\n",
    "}"
   ],
   "metadata": {
    "collapsed": false
   },
   "id": "6b1fe9f5e4db6e85"
  },
  {
   "cell_type": "code",
   "execution_count": null,
   "outputs": [],
   "source": [
    "panreatic_cancer = [\n",
    "    \"C25\", \"C250\", \"C251\", \"C252\", \"C253\", \"C254\", \"C257\", \"C258\", \"C259\"\n",
    "]\n",
    "diabetes = [\n",
    "   \"E11\", \"E110\", \"E111\", \"E112\", \"E113\", \"E114\", \"E115\", \"E116\", \"E117\", \"E118\", \"E119\", \"E13\", \"E130\", \"E131\", \"E132\", \"E133\", \"E134\", \"E135\", \"E136\", \"E137\", \"E138\", \"E139\"]\n",
    "pancreatitis = [\n",
    "    \"K85\", \"K850\", \"K851\", \"K852\", \"K853\", \"K858\", \"K859\", \"K\", \"K860\", \"K861\", \"K862\", \"K863\", \"K868\", \"K869\"\n",
    "]\n",
    "pancreas_types = {\n",
    "    \"Pancreatic Cancer\": panreatic_cancer,\n",
    "    \"Diabetes Mellitus\": diabetes,\n",
    "    \"Pancreatitis\": pancreatitis\n",
    "}"
   ],
   "metadata": {
    "collapsed": false
   },
   "id": "48d7ddf94bbb7b44"
  },
  {
   "cell_type": "code",
   "execution_count": null,
   "outputs": [],
   "source": [
    "liver_cancer = [\n",
    "    \"C22\", \"C220\", \"C221\", \"C222\", \"C223\", \"C224\", \"C227\", \"C228\", \"C229\"\n",
    "]\n",
    "hepatitis = [\n",
    "    \"B18\", \"B180\", \"B1800\", \"B18009\", \"B181\",\"B1810\", \"B1819\", \"B182\", \"B188\", \"B189\",\n",
    "]\n",
    "oesophageal_gastric_varices = [\n",
    "    \"I85\", \"I850\", \"I859\", \"I864\", \"I982\"\n",
    "]\n",
    "liver_disease = [\n",
    "   \"K70\", \"K700\", \"K701\", \"K702\", \"K703\", \"K704\", \"K709\", \"K71\", \"K711\", \"K713\", \"K714\", \"K715\", \"K717\", \"K72\", \"K720\", \"K721\", \"K729\", \"K73\", \"K730\", \"K731\", \"K732\",  \"K738\", \"K739\", \"K74\", \"K740\", \"K741\", \"K742\", \"K743\", \"K744\", \"K745\", \"K746\", \"K760\", \"K762\", \"K763\", \"K764\", \"K765\", \"K766\", \"K767\", \"K768\", \"K769\" \n",
    "]\n",
    "liver_types = {\n",
    "    \"Liver Cancer\": liver_cancer,\n",
    "    \"Chronic Viral Hepatitis\": hepatitis,\n",
    "    \"Oesophageal/Gastric Varices\": oesophageal_gastric_varices,\n",
    "    \"Liver Disease\": liver_disease\n",
    "}"
   ],
   "metadata": {
    "collapsed": false
   },
   "id": "fce1741840e59820"
  },
  {
   "cell_type": "code",
   "execution_count": null,
   "outputs": [],
   "source": [
    "liver_types_distribution = get_class_distribution(liver_types, positive_group, [\"secondary\", \"all\", \"ado\"])\n",
    "liver_types_distribution"
   ],
   "metadata": {
    "collapsed": false
   },
   "id": "5a2df8d064d3f571"
  },
  {
   "cell_type": "code",
   "execution_count": null,
   "outputs": [],
   "source": [
    "cvd2_types_distribution = get_class_distribution(cvd2_types, positive_group, [\"secondary\", \"all\", \"ado\"])\n",
    "cvd2_types_distribution"
   ],
   "metadata": {
    "collapsed": false
   },
   "id": "d0c44b2122fe4258"
  },
  {
   "cell_type": "code",
   "execution_count": null,
   "outputs": [],
   "source": [
    "pancreas_types_distribution = get_class_distribution(pancreas_types, positive_group, [\"secondary\", \"cancer\"])\n",
    "pancreas_types_distribution"
   ],
   "metadata": {
    "collapsed": false
   },
   "id": "99bf3721999edebe"
  },
  {
   "cell_type": "code",
   "execution_count": null,
   "outputs": [],
   "source": [
    "# seaborn pie chart with cancer types distributions\n",
    "import matplotlib.pyplot as plt\n",
    "import seaborn as sns\n",
    "sns.set_style(\"whitegrid\")\n",
    "plt.figure(figsize=(18, 10))\n",
    "plt.pie(liver_types_distribution.values(), labels=liver_types_distribution.keys(), autopct='%1.1f%%')\n",
    "plt.savefig(\"liver_types_distribution.png\", dpi=600)\n",
    "\n"
   ],
   "metadata": {
    "collapsed": false
   },
   "id": "2277db8438f8a4cf"
  },
  {
   "cell_type": "code",
   "execution_count": null,
   "outputs": [],
   "source": [
    "pd.DataFrame(cancer_types_distribution, index=[0]).T.plot.pie(subplots=True, figsize=(10, 10), autopct='%1.1f%%',\n",
    "                                                              legend=False)\n",
    "# save figure\n",
    "plt.savefig(\"cancer_types_distribution.png\")"
   ],
   "metadata": {
    "collapsed": false
   },
   "id": "4cf2737fedc047ae"
  },
  {
   "cell_type": "markdown",
   "id": "e6a7d4cf5b95f1f5",
   "metadata": {
    "collapsed": false
   },
   "source": [
    "## Cancer"
   ]
  },
  {
   "cell_type": "code",
   "execution_count": null,
   "outputs": [],
   "source": [
    "labels = pd.read_csv(\"./resources/cancer_redefine/labels.csv\")"
   ],
   "metadata": {
    "collapsed": false
   },
   "id": "ad3cf5a8046b5e87"
  },
  {
   "cell_type": "code",
   "execution_count": null,
   "outputs": [],
   "source": [
    "tte = labels[labels[\"event\"] == 1][\"time_to_event\"]\n",
    "tte.hist(bins=100)"
   ],
   "metadata": {
    "collapsed": false
   },
   "id": "5b9d63ec4e279ccd"
  },
  {
   "cell_type": "code",
   "execution_count": null,
   "outputs": [],
   "source": [
    "tte"
   ],
   "metadata": {
    "collapsed": false
   },
   "id": "ac335a8b71dcb672"
  },
  {
   "cell_type": "code",
   "execution_count": null,
   "id": "4ed1614cc761885a",
   "metadata": {
    "collapsed": false
   },
   "outputs": [],
   "source": [
    "matched_dataset = pd.read_csv(\"./resources/cancer_redefine/matched_dataset.csv\")\n",
    "positive_group = matched_dataset[matched_dataset['status'] == 1]\n",
    "control_group = matched_dataset[matched_dataset['status'] == 0]"
   ]
  },
  {
   "cell_type": "code",
   "execution_count": null,
   "id": "4bdb33ac5fde1456",
   "metadata": {
    "collapsed": false
   },
   "outputs": [],
   "source": [
    "normalControlExtractor = NormalControlExtractor()\n",
    "normalControlExtractor.visualize_sex_distribution(positive_group)\n",
    "normalControlExtractor.visualize_sex_distribution(control_group)"
   ]
  },
  {
   "cell_type": "code",
   "execution_count": null,
   "id": "b844c97d74375fc5",
   "metadata": {
    "collapsed": false
   },
   "outputs": [],
   "source": [
    "normalControlExtractor.visualize_hist(positive_group, age_field)\n",
    "normalControlExtractor.visualize_hist(control_group, age_field)"
   ]
  },
  {
   "cell_type": "code",
   "execution_count": null,
   "id": "db926483f4c47ae0",
   "metadata": {
    "collapsed": false
   },
   "outputs": [],
   "source": [
    "normalControlExtractor.visualize_hist(positive_group, bmi_field)\n",
    "normalControlExtractor.visualize_hist(control_group, bmi_field)"
   ]
  },
  {
   "cell_type": "markdown",
   "id": "f6ec28b4cbf61528",
   "metadata": {
    "collapsed": false
   },
   "source": [
    "## Cancer types distribution"
   ]
  },
  {
   "cell_type": "code",
   "execution_count": null,
   "id": "f405ebcee92bba53",
   "metadata": {
    "collapsed": false
   },
   "outputs": [],
   "source": [
    "from utils import get_cancer_types\n",
    "cancer_types = get_cancer_types()\n",
    "for type_cancer, lst in cancer_types.items():\n",
    "    cancer_types[type_cancer] = icdExtractor.extract_icd_codes_from_pattern(lst)"
   ]
  },
  {
   "cell_type": "code",
   "execution_count": null,
   "id": "31c409255cd28927",
   "metadata": {
    "collapsed": false
   },
   "outputs": [],
   "source": [
    "cancer_types_distribution = get_class_distribution(cancer_types, positive_group, [\"cancer\"])   "
   ]
  },
  {
   "cell_type": "code",
   "execution_count": null,
   "id": "f2e112f20520464c",
   "metadata": {
    "collapsed": false
   },
   "outputs": [],
   "source": [
    "cancer_types_distribution"
   ]
  },
  {
   "cell_type": "code",
   "execution_count": null,
   "outputs": [],
   "source": [
    "eid_class = get_class_eid(cancer_types, positive_group, [\"cancer\"])"
   ],
   "metadata": {
    "collapsed": false
   },
   "id": "c6e60b742c9bc2ec"
  },
  {
   "cell_type": "code",
   "execution_count": null,
   "outputs": [],
   "source": [
    "eid_class['normal_control'] = control_group['eid'].tolist()"
   ],
   "metadata": {
    "collapsed": false
   },
   "id": "8de0bacd017820a5"
  },
  {
   "cell_type": "code",
   "execution_count": null,
   "outputs": [],
   "source": [
    "for k, v in eid_class.items():\n",
    "    eid_class[k] = len(v)"
   ],
   "metadata": {
    "collapsed": false
   },
   "id": "a20cee84a1b0bb4c"
  },
  {
   "cell_type": "code",
   "execution_count": null,
   "outputs": [],
   "source": [],
   "metadata": {
    "collapsed": false
   },
   "id": "39fdb65a26b72bfb"
  },
  {
   "cell_type": "code",
   "execution_count": null,
   "outputs": [],
   "source": [
    "# made csv with eids, eids are the values and keys are the classes\n",
    "\n",
    "data = [(eid, class_name) for class_name, eids in eid_class.items() for eid in eids]\n",
    "\n",
    "pd.DataFrame(data, columns=[\"eid\", \"class\"]).to_csv(\"./resources/cancer_redefine/eid_class.csv\", index=False)\n",
    "\n",
    "         "
   ],
   "metadata": {
    "collapsed": false
   },
   "id": "f2e2c0e2a4af2f40"
  },
  {
   "cell_type": "code",
   "execution_count": null,
   "outputs": [],
   "source": [
    "# sum of all cancer types\n",
    "sum(cancer_types_distribution.values())"
   ],
   "metadata": {
    "collapsed": false
   },
   "id": "3b5a3e99404fbf8f"
  },
  {
   "cell_type": "code",
   "execution_count": null,
   "outputs": [],
   "source": [
    "len(positive_group)"
   ],
   "metadata": {
    "collapsed": false
   },
   "id": "96099347866793f8"
  },
  {
   "cell_type": "code",
   "execution_count": null,
   "id": "4acd39fe30fb650c",
   "metadata": {
    "collapsed": false
   },
   "outputs": [],
   "source": [
    "(set(cancer_types.keys()) - \n",
    " set(list(cancer_types_distribution.keys())))"
   ]
  },
  {
   "cell_type": "code",
   "execution_count": null,
   "id": "ef35df40e6d156c8",
   "metadata": {
    "collapsed": false
   },
   "outputs": [],
   "source": [
    "pd.DataFrame(cancer_types_distribution, index=[0]).T.plot.pie(subplots=True, figsize=(10, 10), autopct='%1.1f%%', legend=False)"
   ]
  },
  {
   "cell_type": "markdown",
   "id": "f9953fe243591571",
   "metadata": {
    "collapsed": false
   },
   "source": [
    "## CVD"
   ]
  },
  {
   "cell_type": "code",
   "execution_count": null,
   "id": "f1b17e02d7519f1c",
   "metadata": {
    "collapsed": false
   },
   "outputs": [],
   "source": [
    "matched_dataset = pd.read_csv(\"./resources/cvd/matched_dataset.csv\")\n",
    "positive_group = matched_dataset[matched_dataset['status'] == 1]\n",
    "control_group = matched_dataset[matched_dataset['status'] == 0]"
   ]
  },
  {
   "cell_type": "code",
   "execution_count": null,
   "id": "dd6e323b762ec0c7",
   "metadata": {
    "collapsed": false
   },
   "outputs": [],
   "source": [
    "normalControlExtractor = NormalControlExtractor()\n",
    "normalControlExtractor.visualize_sex_distribution(positive_group)\n",
    "normalControlExtractor.visualize_sex_distribution(control_group)\n"
   ]
  },
  {
   "cell_type": "code",
   "execution_count": null,
   "id": "5518cd9d1b4dd066",
   "metadata": {
    "collapsed": false
   },
   "outputs": [],
   "source": [
    "normalControlExtractor.visualize_hist(positive_group, age_field)\n",
    "normalControlExtractor.visualize_hist(control_group, age_field)"
   ]
  },
  {
   "cell_type": "code",
   "execution_count": null,
   "id": "433c46e74d4f1c5c",
   "metadata": {
    "collapsed": false
   },
   "outputs": [],
   "source": [
    "normalControlExtractor.visualize_hist(positive_group, bmi_field)\n",
    "normalControlExtractor.visualize_hist(control_group, bmi_field)"
   ]
  },
  {
   "cell_type": "code",
   "execution_count": null,
   "id": "693953896fb425e4",
   "metadata": {
    "collapsed": false
   },
   "outputs": [],
   "source": [
    "from ComorbidityExtractor import ComorbidityExtractor\n",
    "comorbidity_selector = [\n",
    "    'Congestive heart failure',\n",
    "    'Cardiac arrhythmias',\n",
    "    'Valvular disease',\n",
    "    'Pulmonary circulation disorders',\n",
    "    'Peripheral vascular disorders', \n",
    "    'Hypertension, uncomplicated',\n",
    "    'Hypertension, complicated', \n",
    "]\n",
    "icd_origin = [\"main\", \"ado\"]\n",
    "comorbidityExtractor = ComorbidityExtractor('../tabular/coding/coding19_with_elixhauser_comorbidities.tsv')\n",
    "icd_selector = comorbidityExtractor.extract_icd_codes(comorbidity_selector)\n",
    "icd_selector += [\"myoinfraction\", \"stroke\"]"
   ]
  },
  {
   "cell_type": "code",
   "execution_count": null,
   "id": "ebb3080f6df113a4",
   "metadata": {
    "collapsed": false
   },
   "outputs": [],
   "source": [
    "cvd_types = {k: comorbidityExtractor.comorbidity_dict[k] for k in comorbidity_selector}\n",
    "cvd_types[\"ado_stroke\"] = [\"stroke\"]\n",
    "cvd_types[\"ado_myoinfraction\"] = [\"myoinfraction\"]\n",
    "cvd_types.keys()"
   ]
  },
  {
   "cell_type": "code",
   "execution_count": null,
   "id": "566e0aef321ae41a",
   "metadata": {
    "collapsed": false
   },
   "outputs": [],
   "source": [
    "cvd_types_distribution = get_class_distribution(cvd_types, positive_group, icd_origin)"
   ]
  },
  {
   "cell_type": "code",
   "execution_count": null,
   "id": "570d646ec59f8de8",
   "metadata": {
    "collapsed": false
   },
   "outputs": [],
   "source": [
    "cvd_types_distribution"
   ]
  },
  {
   "cell_type": "code",
   "execution_count": null,
   "id": "756fdc250a1188bf",
   "metadata": {
    "collapsed": false
   },
   "outputs": [],
   "source": [
    "pd.DataFrame(cvd_types_distribution, index=[0]).T.plot.pie(subplots=True, figsize=(10, 10), autopct='%1.1f%%', legend=False)"
   ]
  },
  {
   "cell_type": "code",
   "execution_count": null,
   "id": "655b07e0c615f03e",
   "metadata": {
    "collapsed": false
   },
   "outputs": [],
   "source": [
    "set(cvd_types.keys()) - set(list(cvd_types_distribution.keys()))\n"
   ]
  },
  {
   "cell_type": "code",
   "execution_count": null,
   "id": "2c7d7d240e1ea40f",
   "metadata": {
    "collapsed": false
   },
   "outputs": [],
   "source": [
    "cvd_types['ado_stroke'] = ['stroke']\n",
    "cvd_types['ado_myoinfraction'] = ['myoinfraction']\n",
    "get_class_distribution(cvd_types, positive_group, [\"main\"])"
   ]
  },
  {
   "cell_type": "code",
   "execution_count": null,
   "id": "7feba213a86db089",
   "metadata": {
    "collapsed": false
   },
   "outputs": [],
   "source": [
    "counter = 0\n",
    "for eid in positive_group['eid']:\n",
    "    if \"stroke\" in icdExtractor.icd_code_dict[eid]['icd_codes'] or \"myoinfraction\" in icdExtractor.icd_code_dict[eid]['icd_codes']:\n",
    "        print(icdExtractor.icd_code_dict[eid])\n",
    "        print(\"------------\")\n",
    "        counter += 1\n",
    "print(counter)"
   ]
  },
  {
   "cell_type": "code",
   "execution_count": null,
   "outputs": [],
   "source": [
    "matched_dataset = pd.read_csv(\"./resources/3m_3y/pancreas_3m_3y/matched_dataset.csv\")\n",
    "positive_group = matched_dataset[matched_dataset['status'] == 1]\n",
    "control_group = matched_dataset[matched_dataset['status'] == 0]\n",
    "normalControlExtractor = NormalControlExtractor()\n",
    "normalControlExtractor.visualize_sex_distribution(positive_group)\n",
    "normalControlExtractor.visualize_sex_distribution(control_group)\n",
    "\n",
    "normalControlExtractor.visualize_hist(positive_group, age_field, bins=50)\n",
    "normalControlExtractor.visualize_hist(control_group, age_field, bins=50)\n",
    "normalControlExtractor.visualize_hist(positive_group, bmi_field, bins=50)\n",
    "normalControlExtractor.visualize_hist(control_group, bmi_field, bins=50)"
   ],
   "metadata": {
    "collapsed": false
   },
   "id": "daf32488651a70af"
  },
  {
   "cell_type": "markdown",
   "id": "2f2e16800dbede59",
   "metadata": {
    "collapsed": false
   },
   "source": [
    "## Backup"
   ]
  },
  {
   "cell_type": "code",
   "execution_count": null,
   "id": "a236df0b88fbaa5a",
   "metadata": {
    "collapsed": false
   },
   "outputs": [],
   "source": [
    "#cancer_types = get_cancer_types()\n",
    "cancer_types_distribution = {}\n",
    "group = positive_group\n",
    "for eid in group['eid']:\n",
    "    if eid not in icdExtractor.icd_code_dict.keys():\n",
    "        print(f\"eid {eid} not found in icd code dict\")\n",
    "        continue\n",
    "    for icd_code in icdExtractor.icd_code_dict[eid]['icd_codes']:\n",
    "        for cancer_type in cancer_types:\n",
    "            for icd_code_pattern in cancer_types[cancer_type]:\n",
    "                if icd_code in icd_code_pattern:\n",
    "                    if cancer_type in cancer_types_distribution.keys():\n",
    "                        cancer_types_distribution[cancer_type] += 1\n",
    "                    else:\n",
    "                        cancer_types_distribution[cancer_type] = 1\n",
    "                    "
   ]
  },
  {
   "cell_type": "code",
   "execution_count": null,
   "id": "578d94876bd2f24e",
   "metadata": {
    "collapsed": false
   },
   "outputs": [],
   "source": [
    "# take only comorbidiry_selector classes from the comorbidity dict\n",
    "cvd_types = {k: comorbidityExtractor.comorbidity_dict[k] for k in comorbidity_selector}\n",
    "cvd_types_distribution = {}\n",
    "group = positive_group\n",
    "for eid in group['eid']:\n",
    "    if eid not in icdExtractor.icd_code_dict.keys():\n",
    "        print(f\"eid {eid} not found in icd code dict\")\n",
    "        continue\n",
    "    icd_code_min = None\n",
    "    icd_code_date_min = None\n",
    "    icd_code_type = None\n",
    "    \n",
    "    for i, icd_code in enumerate(icdExtractor.icd_code_dict[eid]['icd_codes']):\n",
    "        for cvd_type in cvd_types:\n",
    "            for icd_code_pattern in cvd_types[cvd_type]:\n",
    "                if icd_code in icd_code_pattern:\n",
    "                    if icd_code_min is None:\n",
    "                        icd_code_min = icd_code\n",
    "                        icd_code_date_min = icdExtractor.icd_code_dict[eid]['icd_dates'][i]\n",
    "                        icd_code_type = cvd_type\n",
    "                    else:\n",
    "                        if icd_code_date_min > icdExtractor.icd_code_dict[eid]['icd_dates'][i]:\n",
    "                            icd_code_min = icd_code\n",
    "                            icd_code_date_min = icdExtractor.icd_code_dict[eid]['icd_dates'][i]\n",
    "                            icd_code_type = cvd_type\n",
    "    if icd_code_type not in cvd_types_distribution.keys():\n",
    "        cvd_types_distribution[icd_code_type] = 1\n",
    "    else:\n",
    "        cvd_types_distribution[icd_code_type] += 1\n",
    " \n",
    "                    "
   ]
  },
  {
   "cell_type": "code",
   "execution_count": null,
   "id": "33eb6e377c4a1dd1",
   "metadata": {
    "collapsed": false
   },
   "outputs": [],
   "source": [
    "labels = pd.read_csv(\"./resources/cancer/labels.csv\")"
   ]
  },
  {
   "cell_type": "code",
   "execution_count": null,
   "id": "35500344eb1f772f",
   "metadata": {
    "collapsed": false
   },
   "outputs": [],
   "source": [
    "import os \n",
    "imgs = os.listdir(r\"../data/data/whole_body/projections/\")"
   ]
  },
  {
   "cell_type": "markdown",
   "id": "e34f46593b1cc3bf",
   "metadata": {
    "collapsed": false
   },
   "source": []
  },
  {
   "cell_type": "code",
   "execution_count": null,
   "id": "eae1e8e59559cdb9",
   "metadata": {
    "collapsed": false
   },
   "outputs": [],
   "source": [
    "imgs = [img.split(\".\")[0] for img in imgs]"
   ]
  },
  {
   "cell_type": "code",
   "execution_count": null,
   "id": "c587b073f3ffbf71",
   "metadata": {
    "collapsed": false
   },
   "outputs": [],
   "source": [
    "# save as csv with column eid\n",
    "pd.DataFrame(imgs, columns=[\"eid\"]).to_csv(\"/home/dmitrii/GitHub/ukbb_risk_assessment/cancer_C00-C43_C45-C97_D37-D48/eids_with_features/eids_with_wholebody_images.csv\", index=False)"
   ]
  },
  {
   "cell_type": "code",
   "execution_count": null,
   "id": "4d1760e40b3db315",
   "metadata": {
    "collapsed": false
   },
   "outputs": [],
   "source": [
    "imgs = list(map(int, imgs))"
   ]
  },
  {
   "cell_type": "code",
   "execution_count": null,
   "id": "e822b2d6c86c2227",
   "metadata": {
    "collapsed": false
   },
   "outputs": [],
   "source": [
    "imgs"
   ]
  },
  {
   "cell_type": "code",
   "execution_count": null,
   "id": "ac68c55dae94ee4e",
   "metadata": {
    "collapsed": false
   },
   "outputs": [],
   "source": [
    "eids = labels[\"eid\"].astype(str).tolist()"
   ]
  },
  {
   "cell_type": "code",
   "execution_count": null,
   "id": "b12c0ceb5ed0705b",
   "metadata": {
    "collapsed": false
   },
   "outputs": [],
   "source": [
    "labels[\"eid\"] = labels[\"eid\"].astype(str)"
   ]
  },
  {
   "cell_type": "code",
   "execution_count": null,
   "id": "e5fdcd147d429149",
   "metadata": {
    "collapsed": false
   },
   "outputs": [],
   "source": [
    "counter = 0\n",
    "missing_eids = []\n",
    "for eid in eids:\n",
    "    if eid not in imgs:\n",
    "        counter += 1\n",
    "        missing_eids.append(eid)\n"
   ]
  },
  {
   "cell_type": "code",
   "execution_count": null,
   "id": "61b3136c76010364",
   "metadata": {
    "collapsed": false
   },
   "outputs": [],
   "source": [
    "# status distribution of missing eids\n",
    "missing_eids_df = labels[labels[\"eid\"].isin(missing_eids)]"
   ]
  },
  {
   "cell_type": "code",
   "execution_count": null,
   "id": "31b61e653e335584",
   "metadata": {
    "collapsed": false
   },
   "outputs": [],
   "source": [
    "missing_eids_df[\"event\"].value_counts()"
   ]
  },
  {
   "cell_type": "code",
   "execution_count": null,
   "outputs": [],
   "source": [
    "# in what fields to look for ICD codes\n",
    "\n",
    "icd_diagnosis_field_main = '41202'  # main icds\n",
    "icd_diagnosis_date_field_main = '41262'  # main icd dates\n",
    "\n",
    "icd_diagnosis_field_secondary = '41270' # all icds\n",
    "icd_diagnosis_date_field_secondary = '41280' # all icd dates\n",
    "\n",
    "icd_diagnosis_field_cancer = '40006'\n",
    "icd_diagnosis_date_field_cancer = '40005'\n",
    "\n",
    "icd_diagnosis_fields = [icd_diagnosis_field_main,\n",
    "                        icd_diagnosis_field_secondary,\n",
    "                        icd_diagnosis_field_cancer]\n",
    "\n",
    "icd_diagnosis_date_fields = [icd_diagnosis_date_field_main,\n",
    "                             icd_diagnosis_date_field_secondary,\n",
    "                             icd_diagnosis_date_field_cancer]\n",
    "\n",
    "file_path_final_cohort = \"/home/dmitrii/GitHub/ukbb_risk_assessment/PrepareDataset/resources/cancer_redefine/\"\n",
    "df = pd.read_csv(file_path_final_cohort + \"final_cohort.csv\", nrows=1)\n",
    "icd_cols = []\n",
    "for col in df.columns:\n",
    "    for icd_field in icd_diagnosis_fields + icd_diagnosis_date_fields:\n",
    "        if col.startswith(icd_field):\n",
    "            icd_cols.append(col)\n",
    "df = pd.read_csv(file_path_final_cohort + \"final_cohort.csv\", usecols=icd_cols + ['eid'])   \n",
    "df_labels = pd.read_csv(file_path_final_cohort + \"labels.csv\")\n",
    "df.merge(df_labels, on=\"eid\").to_excel(file_path_final_cohort+\"icd_codes.xlsx\", index=False)"
   ],
   "metadata": {
    "collapsed": false
   },
   "id": "aa3178d9979b9fe5"
  },
  {
   "cell_type": "code",
   "execution_count": null,
   "outputs": [],
   "source": [],
   "metadata": {
    "collapsed": false
   },
   "id": "7b30134927d2221e"
  },
  {
   "cell_type": "code",
   "execution_count": null,
   "outputs": [],
   "source": [
    "import pandas as pd\n",
    "eids_cvd2 = pd.read_csv(\"/home/dmitrii/GitHub/ukbb_risk_assessment/PrepareDataset/resources/3m_3y/cancer_3m_3y/labels_with_val.csv\")[\"eid\"].tolist()\n",
    "eids_pancres = pd.read_csv(\"/home/dmitrii/GitHub/ukbb_risk_assessment/PrepareDataset/resources/3m_3y/pancreas_3m_3y/labels_with_val.csv\")[\"eid\"].tolist()\n",
    "eids_liver = pd.read_csv(\"/home/dmitrii/GitHub/ukbb_risk_assessment/PrepareDataset/resources/3m_3y/liver_3m_3y/labels_with_val.csv\")[\"eid\"].tolist()\n",
    "eids_cancer = pd.read_csv(\"/home/dmitrii/GitHub/ukbb_risk_assessment/PrepareDataset/resources/3m_3y/cancer_3m_3y/labels_with_val.csv\")[\"eid\"].tolist()\n",
    "eids_copd = pd.read_csv(\"/home/dmitrii/GitHub/ukbb_risk_assessment/PrepareDataset/resources/3m_3y/copd_3m_3y/labels_with_val.csv\")[\"eid\"].tolist()\n",
    "eids_ckd = pd.read_csv(\"/home/dmitrii/GitHub/ukbb_risk_assessment/PrepareDataset/resources/3m_3y/ckd_3m_3y/labels_with_val.csv\")[\"eid\"].tolist()"
   ],
   "metadata": {
    "collapsed": false
   },
   "id": "b3ea3a14a9f08dee"
  },
  {
   "cell_type": "code",
   "execution_count": null,
   "outputs": [],
   "source": [
    "eids = set(eids_cvd2 + eids_pancres + eids_liver + eids_cancer + eids_copd + eids_ckd)"
   ],
   "metadata": {
    "collapsed": false
   },
   "id": "28b728dbc1c98ccb"
  },
  {
   "cell_type": "code",
   "execution_count": null,
   "outputs": [],
   "source": [
    "len(eids)"
   ],
   "metadata": {
    "collapsed": false
   },
   "id": "4642dfe5901f24ef"
  },
  {
   "cell_type": "code",
   "execution_count": null,
   "outputs": [],
   "source": [
    "pd.DataFrame(eids).to_csv(\"/home/dmitrii/GitHub/ukbb_risk_assessment/PrepareDataset/resources/3m_3y/eids_all.csv\", index=False)"
   ],
   "metadata": {
    "collapsed": false
   },
   "id": "beb8d4bcbb05877f"
  },
  {
   "cell_type": "code",
   "execution_count": null,
   "outputs": [],
   "source": [
    "# list all directories in the folder \n",
    "import os\n",
    "dirs = os.listdir(\"/home/dmitrii/GitHub/ukbb_risk_assessment/data/data/whole_body/nifti\")"
   ],
   "metadata": {
    "collapsed": false
   },
   "id": "5f319e13ed11cf7b"
  },
  {
   "cell_type": "code",
   "execution_count": null,
   "outputs": [],
   "source": [
    "dirs = [int(d) for d in dirs]"
   ],
   "metadata": {
    "collapsed": false
   },
   "id": "c72ca0a05591343f"
  },
  {
   "cell_type": "code",
   "execution_count": null,
   "outputs": [],
   "source": [
    "# find eids that are not in the list of eids\n",
    "missing_eids = []\n",
    "for eid in eids:\n",
    "    if eid not in dirs:\n",
    "        missing_eids.append(eid)"
   ],
   "metadata": {
    "collapsed": false
   },
   "id": "b61db73b411f6bc2"
  },
  {
   "cell_type": "code",
   "execution_count": null,
   "outputs": [],
   "source": [
    "len(missing_eids)"
   ],
   "metadata": {
    "collapsed": false
   },
   "id": "d109dbe5454022d0"
  },
  {
   "cell_type": "code",
   "execution_count": null,
   "outputs": [],
   "source": [
    "pd.DataFrame(missing_eids).to_csv(\"/home/dmitrii/GitHub/ukbb_risk_assessment/PrepareDataset/resources/3m_3y/missing_eids.csv\", index=False)"
   ],
   "metadata": {
    "collapsed": false
   },
   "id": "c6f1f1e111ffc194"
  },
  {
   "cell_type": "code",
   "execution_count": null,
   "outputs": [],
   "source": [
    "# split missing ids into 5 equal parts by rows and save them with index\n",
    "missing_eids = pd.read_csv(\"/home/dmitrii/GitHub/ukbb_risk_assessment/PrepareDataset/resources/3m_3y/missing_eids.csv\")\n",
    "\n",
    "num_in_part = len(missing_eids) // 5\n",
    "for i in range(5):\n",
    "    if i == 4:\n",
    "        missing_eids.iloc[i*num_in_part:].to_csv(f\"//home/dmitrii/GitHub/ukbb_risk_assessment/PrepareDataset/resources/3m_3y/missing_eids_{i}.csv\", index=False)\n",
    "    else:\n",
    "        missing_eids.iloc[i*num_in_part:(i+1)*num_in_part].to_csv(f\"//home/dmitrii/GitHub/ukbb_risk_assessment/PrepareDataset/resources/3m_3y/missing_eids_{i}.csv\", index=False) \n",
    "    \n",
    "\n",
    "\n"
   ],
   "metadata": {
    "collapsed": false
   },
   "id": "900f97a2087b7e5e"
  },
  {
   "cell_type": "code",
   "execution_count": null,
   "outputs": [],
   "source": [],
   "metadata": {
    "collapsed": false
   },
   "id": "47303b4a8fafa60a"
  },
  {
   "cell_type": "code",
   "execution_count": null,
   "outputs": [],
   "source": [
    "eids_all = pd.read_csv(\"/home/dmitrii/GitHub/ukbb_risk_assessment/PrepareDataset/resources/3m_3y/eids_all.csv\")[\"eid\"].tolist()"
   ],
   "metadata": {
    "collapsed": false
   },
   "id": "3949bacbb969730a"
  },
  {
   "cell_type": "code",
   "execution_count": null,
   "outputs": [],
   "source": [
    "nifti_path = \"/home/dmitrii/GitHub/ukbb_risk_assessment/data/data/whole_body/nifti\"\n",
    "eids_nifti = os.listdir(nifti_path)"
   ],
   "metadata": {
    "collapsed": false
   },
   "id": "cff472afa7f33220"
  },
  {
   "cell_type": "code",
   "execution_count": null,
   "outputs": [],
   "source": [
    "eids_nifti = [int(eid) for eid in eids_nifti if eid.isdigit()]"
   ],
   "metadata": {
    "collapsed": false
   },
   "id": "eace619d23da89e0"
  },
  {
   "cell_type": "code",
   "execution_count": null,
   "outputs": [],
   "source": [
    "eids_nifti[10]"
   ],
   "metadata": {
    "collapsed": false
   },
   "id": "96b35c1ebe3dfd4d"
  },
  {
   "cell_type": "code",
   "execution_count": null,
   "outputs": [],
   "source": [
    "len(set(eids_all) & set(eids_nifti))"
   ],
   "metadata": {
    "collapsed": false
   },
   "id": "4877ad9101e382ed"
  },
  {
   "cell_type": "code",
   "execution_count": null,
   "outputs": [],
   "source": [
    "radiomics_revised_path = \"/home/dmitrii/data/sdm_files/Projects/TotalVibeSegmentator/radiomics_revised\"\n",
    "radiomics_df = pd.read_csv(radiomics_revised_path + \"/1001399/radiomics_features_wat.csv\")"
   ],
   "metadata": {
    "collapsed": false
   },
   "id": "e77dbcdc7ec069cf"
  },
  {
   "cell_type": "code",
   "execution_count": null,
   "outputs": [],
   "source": [
    "radiomics_df.columns"
   ],
   "metadata": {
    "collapsed": false
   },
   "id": "8a64b15a09296ecf"
  },
  {
   "cell_type": "code",
   "execution_count": null,
   "outputs": [],
   "source": [
    "# get all features with shape in name and remove all the prefix before shape\n",
    "shape_features = [col for col in radiomics_df.columns if \"_shape_\" in col]\n",
    "shape_features = [\"_\".join(col.split(\"_shape_\")[1:]) for col in shape_features]"
   ],
   "metadata": {
    "collapsed": false
   },
   "id": "fa6c57bdd31af172"
  },
  {
   "cell_type": "code",
   "execution_count": null,
   "outputs": [],
   "source": [
    "set(shape_features)"
   ],
   "metadata": {
    "collapsed": false
   },
   "id": "b0f1790a850b83b0"
  },
  {
   "cell_type": "code",
   "execution_count": null,
   "outputs": [],
   "source": [],
   "metadata": {
    "collapsed": false
   },
   "id": "d6903f16bc17b0c5"
  }
 ],
 "metadata": {
  "kernelspec": {
   "display_name": "Python 3 (ipykernel)",
   "language": "python",
   "name": "python3"
  },
  "language_info": {
   "codemirror_mode": {
    "name": "ipython",
    "version": 3
   },
   "file_extension": ".py",
   "mimetype": "text/x-python",
   "name": "python",
   "nbconvert_exporter": "python",
   "pygments_lexer": "ipython3",
   "version": "3.10.13"
  }
 },
 "nbformat": 4,
 "nbformat_minor": 5
}
