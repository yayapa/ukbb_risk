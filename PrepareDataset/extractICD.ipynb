{
 "cells": [
  {
   "cell_type": "code",
   "execution_count": null,
   "id": "initial_id",
   "metadata": {
    "collapsed": true
   },
   "outputs": [],
   "source": [
    "import pandas as pd\n",
    "import os \n",
    "import sys\n",
    "sys.path.append('../')\n",
    "\n",
    "from PrepareDataset.ICDExtractor import ICDExtractor\n",
    "file_path_imaging = '../data/data/tabular/ukb668815_imaging.csv'\n",
    "#file_path_imaging = '../data/data/tabular/ukb668815.csv'\n",
    "icd_code_dict_file_path = r\"./resources/icd_code_dict_imaging.json\"\n",
    "#icd_code_dict_file_path = r\"./resources/icd_code_dict.json\"\n",
    "#icd_code_dict_file_path = r\"../ICDCodesAnalysis/icd_code_dict.json\"\n",
    "icdExtractor = ICDExtractor(file_path_imaging, icd_code_dict_file_path)"
   ]
  },
  {
   "cell_type": "code",
   "execution_count": null,
   "outputs": [],
   "source": [
    "comorbidities_table = pd.read_csv('../tabular/coding/coding19_with_elixhauser_comorbidities.tsv', sep='\\t')"
   ],
   "metadata": {
    "collapsed": false
   },
   "id": "b9bc01931557321b"
  },
  {
   "cell_type": "code",
   "execution_count": null,
   "id": "13079bec193a261",
   "metadata": {
    "collapsed": false
   },
   "outputs": [],
   "source": [
    "MODE = 'cvd'\n",
    "basis_file_path = './resources/3m_3y/' + 'cvd_3m_3y' # + MODE"
   ]
  },
  {
   "cell_type": "markdown",
   "id": "8e543fe52ad0bbbf",
   "metadata": {
    "collapsed": false
   },
   "source": [
    "## Load icd code dictionary"
   ]
  },
  {
   "cell_type": "code",
   "execution_count": null,
   "id": "4ac0b22d24a3975b",
   "metadata": {
    "collapsed": false
   },
   "outputs": [],
   "source": [
    "# extract icd codes from the main database\n",
    "icdExtractor.extract_icd_codes()\n",
    "icdExtractor.save_icd_code_dict(icdExtractor.icd_code_dict, icd_code_dict_file_path)"
   ]
  },
  {
   "cell_type": "markdown",
   "source": [],
   "metadata": {
    "collapsed": false
   },
   "id": "e68ffc92c639e7c4"
  },
  {
   "cell_type": "code",
   "execution_count": null,
   "id": "111ebaa09d73dfe5",
   "metadata": {
    "collapsed": false
   },
   "outputs": [],
   "source": [
    "# load already extracted icd codes from local file\n",
    "_ = icdExtractor.load_icd_code_dict()"
   ]
  },
  {
   "cell_type": "code",
   "execution_count": null,
   "outputs": [],
   "source": [
    "len(icdExtractor.icd_code_dict)"
   ],
   "metadata": {
    "collapsed": false
   },
   "id": "b8d9526e376e0135"
  },
  {
   "cell_type": "markdown",
   "id": "22f04b6779d05df7",
   "metadata": {
    "collapsed": false
   },
   "source": [
    "## Define the cohort of interest with icd code pool"
   ]
  },
  {
   "cell_type": "code",
   "execution_count": null,
   "id": "3810ce8e9a72bd7b",
   "metadata": {
    "collapsed": false
   },
   "outputs": [],
   "source": [
    "if MODE == \"cvd2\":\n",
    "    icd_ischemic_heart_disease = [\n",
    "    \"I20\", \"I200\", \"I201\", \"I208\", \"I209\", \"I21\", \"I210\", \"I211\", \"I212\", \"I213\", \"I214\", \"I219\",\n",
    "    \"I22\", \"I220\", \"I221\", \"I228\", \"I229\", \"I23\", \"I230\", \"I231\", \"I232\", \"I233\", \"I234\", \"I235\",\n",
    "    \"I236\", \"I238\", \"I24\", \"I240\", \"I241\", \"I248\", \"I249\", \"I25\", \"I250\", \"I251\", \"I252\", \"I253\",\n",
    "    \"I254\", \"I255\", \"I256\", \"I258\", \"I259\"\n",
    "    ]\n",
    "    icd_ischemic_heart_disease_self_reported = [\"1074\", \"1075\"]\n",
    "    icd_hypertensive = [\n",
    "    \"I10\", \"I11\", \"I110\", \"I119\", \"I12\", \"I120\", \"I129\", \"I13\", \"I130\", \"I131\", \"I132\", \"I139\",\n",
    "    \"I50\", \"I500\", \"I501\", \"I509\"\n",
    "    ]\n",
    "    icd_hypertensive_self_reported = [\"1065\", \"1072\", \"1076\"]\n",
    "    icd_stroke = [\n",
    "    \"I60\", \"I600\", \"I601\", \"I602\", \"I603\", \"I604\", \"I605\", \"I606\", \"I607\", \"I608\", \"I609\",\n",
    "    \"I61\", \"I610\", \"I611\", \"I612\", \"I613\", \"I614\", \"I615\", \"I616\", \"I618\", \"I619\",\n",
    "    \"I63\", \"I630\", \"I631\", \"I632\", \"I633\", \"I634\", \"I635\", \"I636\", \"I638\", \"I639\",\n",
    "    \"I64\"\n",
    "    ]\n",
    "    icd_stroke_self_reported = [\"1081\", \"1086\", \"1491\", \"1583\"]\n",
    "    \n",
    "    icd_selector = icd_ischemic_heart_disease + icd_hypertensive + icd_stroke\n",
    "    icd_selector += [\"myoinfarction\", \"stroke\"]\n",
    "    \n",
    "    from ComorbidityExtractor import ComorbidityExtractor\n",
    "    comorbidity_selector = [\n",
    "        'Congestive heart failure',\n",
    "        'Cardiac arrhythmias',\n",
    "        'Valvular disease',\n",
    "        'Pulmonary circulation disorders',\n",
    "        'Peripheral vascular disorders', \n",
    "        'Hypertension, uncomplicated',\n",
    "        'Hypertension, complicated' \n",
    "    ]\n",
    "    comorbidityExtractor = ComorbidityExtractor('../tabular/coding/coding19_with_elixhauser_comorbidities.tsv')\n",
    "    icd_selector_extended = comorbidityExtractor.extract_icd_codes(comorbidity_selector)\n",
    "    icd_selector_extended += icd_selector\n",
    "    icd_selector_extended += [\"myoinfarction\", \"stroke\"]\n",
    "    icd_self_reported = icd_ischemic_heart_disease_self_reported + icd_hypertensive_self_reported + icd_stroke_self_reported\n",
    "    \n",
    "    icd_origin = ['secondary', 'ado']\n",
    "    censoring_date = '2022-05-31' #cvd    \n",
    "elif MODE == \"cvd\":  # deprecated definition based only on Elixhauser comorbidities\n",
    "    from ComorbidityExtractor import ComorbidityExtractor\n",
    "    comorbidity_selector = [\n",
    "        'Congestive heart failure',\n",
    "        'Cardiac arrhythmias',\n",
    "        'Valvular disease',\n",
    "        'Pulmonary circulation disorders',\n",
    "        'Peripheral vascular disorders', \n",
    "        'Hypertension, uncomplicated',\n",
    "        'Hypertension, complicated' \n",
    "    ]\n",
    "    comorbidityExtractor = ComorbidityExtractor('../tabular/coding/coding19_with_elixhauser_comorbidities.tsv')\n",
    "    icd_selector = comorbidityExtractor.extract_icd_codes(comorbidity_selector)\n",
    "    icd_selector += [\"myoinfarction\", \"stroke\"]\n",
    "    # cvd cohort\n",
    "    icd_selector_extended = icd_selector #+ [\"myoinfarction\", \"stroke\"]\n",
    "    icd_origin = ['main', 'ado']\n",
    "    censoring_date = '2022-05-31' #cvd\n",
    "elif MODE == \"cancer\":\n",
    "    patterns = [\"C{0:02d}\".format(x) for x in range(0, 98)] # all C00-C97\n",
    "    patterns.remove('C44')  # without C44\n",
    "    patterns.remove('C43')  # without C43\n",
    "    patterns += [\"D{0:02d}\".format(x) for x in range(37, 49)]  # all D37-D48\n",
    "    icd_selector = icdExtractor.extract_icd_codes_from_pattern(patterns)\n",
    "    patterns = [\"C{0:02d}\".format(x) for x in range(0, 98)] + [\"D{0:02d}\".format(x) for x in range(37, 49)] # all C00-C97 and D37-D48\n",
    "    icd_selector_extended = icdExtractor.extract_icd_codes_from_pattern(patterns)\n",
    "    icd_origin = [\"cancer\"]\n",
    "    censoring_date = '2020-05-31'\n",
    "elif MODE == \"liver\":\n",
    "    from ComorbidityExtractor import ComorbidityExtractor\n",
    "    comorbidity_selector = [\n",
    "        'Liver disease',\n",
    "    ]\n",
    "    comorbidityExtractor = ComorbidityExtractor('../tabular/coding/coding19_with_elixhauser_comorbidities.tsv')\n",
    "    icd_selector = comorbidityExtractor.extract_icd_codes(comorbidity_selector)\n",
    "    icd_selector += icdExtractor.extract_icd_codes_from_pattern([\"C22\"])\n",
    "    icd_selector_extended = icd_selector \n",
    "    icd_origin = ['secondary', 'cancer']\n",
    "    censoring_date = '2020-05-31' # downgrade, since cancer register is used \n",
    "elif MODE == \"pancreas\":\n",
    "    from ComorbidityExtractor import ComorbidityExtractor\n",
    "    comorbidity_selector = [\n",
    "        'Pancreatic disease (Rickmer-defined)',\n",
    "    ]\n",
    "    comorbidityExtractor = ComorbidityExtractor('../tabular/coding/coding19_with_elixhauser_comorbidities.tsv')\n",
    "    icd_selector = comorbidityExtractor.extract_icd_codes(comorbidity_selector)\n",
    "    icd_selector += icdExtractor.extract_icd_codes_from_pattern([\"C25\"])\n",
    "    patterns = [\"C{0:02d}\".format(x) for x in range(0, 98)] + [\"D{0:02d}\".format(x) for x in range(37, 49)] # all C00-C97 and D37-D48\n",
    "    icd_selector_extended = icdExtractor.extract_icd_codes_from_pattern(patterns)\n",
    "    icd_selector_extended += icd_selector \n",
    "    icd_origin = ['secondary', 'cancer']\n",
    "    censoring_date = '2020-05-31'  # downgrade, since cancer register is used\n",
    "elif MODE == \"pancreas+liver\":\n",
    "    from ComorbidityExtractor import ComorbidityExtractor\n",
    "    comorbidity_selector = [\n",
    "        'Pancreatic disease (Rickmer-defined)',\n",
    "        'Liver disease',\n",
    "    ]\n",
    "    comorbidityExtractor = ComorbidityExtractor('../tabular/coding/coding19_with_elixhauser_comorbidities.tsv')\n",
    "    icd_selector = comorbidityExtractor.extract_icd_codes(comorbidity_selector)\n",
    "    icd_selector += icdExtractor.extract_icd_codes_from_pattern([\"C22\", \"C25\"])\n",
    "    icd_selector_extended = icd_selector \n",
    "    icd_origin = ['secondary', 'cancer']\n",
    "    censoring_date = '2020-05-31'  # downgrade, since cancer register is used\n",
    "elif MODE == \"copd\":\n",
    "    icd_selector = [\"copd\"]\n",
    "    icd_selector_extended = icd_selector\n",
    "    icd_origin = ['ado']\n",
    "    icd_self_reported = ['1112', '1113', '1472']\n",
    "    censoring_date = '2022-05-31'\n",
    "elif MODE == \"dementia_allcause\":  # not enough data\n",
    "    icd_selector = [\"dementia_allcause\"]\n",
    "    icd_selector_extended = icd_selector\n",
    "    icd_origin = ['ado']\n",
    "    icd_self_reported =['1263']\n",
    "    censoring_date = '2022-05-31'\n",
    "elif MODE == \"ckd\":\n",
    "    icd_selector = [\"N18\", \"N180\", \"N181\", \"N182\", \"N183\", \"N184\", \"N185\", \"N188\", \"N189\"]\n",
    "    icd_selector_extended = icd_selector\n",
    "    icd_origin = ['secondary']\n",
    "    icd_self_reported = ['1192', '1193', '1194']\n",
    "    censoring_date = '2022-05-31'\n",
    "elif MODE == \"osteoarthritis\":\n",
    "    icd_selector = [\n",
    "    \"M15\", \"M150\", \"M1500\", \"M151\", \"M152\", \"M153\", \"M154\", \"M158\", \"M159\", \"M1599\",\n",
    "    \"M16\", \"M160\", \"M161\", \"M162\", \"M163\", \"M164\", \"M165\", \"M166\", \"M167\", \"M169\",\n",
    "    \"M17\", \"M170\", \"M171\", \"M172\", \"M173\", \"M174\", \"M175\", \"M179\", \"M18\", \"M180\",\n",
    "    \"M181\", \"M182\", \"M183\", \"M184\", \"M185\", \"M189\", \"M19\", \"M190\", \"M1900\", \"M1901\",\n",
    "    \"M1902\", \"M1903\", \"M1904\", \"M1905\", \"M1906\", \"M1907\", \"M1908\", \"M1909\", \"M191\",\n",
    "    \"M1910\", \"M1911\", \"M1912\", \"M1913\", \"M1914\", \"M1915\", \"M1916\", \"M1917\", \"M1918\",\n",
    "    \"M1919\", \"M192\", \"M1920\", \"M1921\", \"M1922\", \"M1923\", \"M1924\", \"M1925\", \"M1926\",\n",
    "    \"M1927\", \"M1928\", \"M1929\", \"M198\", \"M1980\", \"M1981\", \"M1982\", \"M1983\", \"M1984\",\n",
    "    \"M1985\", \"M1986\", \"M1987\", \"M1988\", \"M1989\", \"M199\", \"M1990\", \"M1991\", \"M1992\",\n",
    "    \"M1993\", \"M1994\", \"M1995\", \"M1996\", \"M1997\", \"M1998\", \"M1999\"\n",
    "    ]\n",
    "    icd_selector_extended = icd_selector\n",
    "    icd_origin = ['secondary']\n",
    "    icd_self_reported = ['1465']\n",
    "    censoring_date = '2022-05-31'\n",
    "    \n",
    "elif MODE == \"osteoporosis\":  # not enough data\n",
    "    icd_selector = [\n",
    "    \"M8000\", \"M8001\", \"M8002\", \"M8003\", \"M8004\", \"M8005\", \"M8006\", \"M8007\", \"M8008\", \"M8009\",\n",
    "    \"M809\", \"M8090\", \"M8091\", \"M8092\", \"M8093\", \"M8094\", \"M8095\", \"M8096\", \"M8097\", \"M8098\",\n",
    "    \"M8099\"\n",
    "    ]\n",
    "    icd_selector_extended = icd_selector\n",
    "    icd_origin = ['secondary']\n",
    "    icd_self_reported = ['1309']\n",
    "    censoring_date = '2022-05-31'\n",
    "\n",
    "censoring_date = pd.to_datetime(censoring_date, errors='coerce', format='%Y-%m-%d')\n",
    "interested_date = \"first_imaging_date\"\n",
    "#interested_date = \"first_visiting_date\"\n",
    "n_years = 3\n",
    "n_min_days = 90"
   ]
  },
  {
   "cell_type": "markdown",
   "id": "65e2b504620bf6f8",
   "metadata": {
    "collapsed": false
   },
   "source": [
    "## Extract the cohort of interest\n",
    "1. min(icd_date) later than first_imaging_date\n",
    "2. event happened within last 5 years\n",
    "3. Check there is no cancer code in extended version of the list prior to the cancer code in the main list "
   ]
  },
  {
   "cell_type": "code",
   "execution_count": null,
   "outputs": [],
   "source": [
    "eids_main = []\n",
    "icd_code_exclude = list(set(icd_selector_extended) - set(icd_selector))\n",
    "for eid, data in icdExtractor.icd_code_dict.items():\n",
    "    icd_codes = data['icd_codes']\n",
    "    code_date = []\n",
    "    code_data_exclude= []\n",
    "    for icd_code_index, icd_code in enumerate(icd_codes):\n",
    "        if (icd_code in icd_selector) and (data['icd_origin'][icd_code_index] in icd_origin):\n",
    "            code_date.append(data['icd_dates'][icd_code_index])\n",
    "        if (icd_code in icd_code_exclude) and (data['icd_origin'][icd_code_index] in icd_origin):\n",
    "            code_data_exclude.append(data['icd_dates'][icd_code_index])\n",
    "    if len(code_date) > 0:\n",
    "        diff = min(code_date) - data[interested_date]\n",
    "        \n",
    "        if len(code_data_exclude) != 0:\n",
    "            diff_exclude = min(code_data_exclude) - data[interested_date]\n",
    "        else:\n",
    "            diff_exclude = pd.Timedelta(days=(n_min_days + 1))\n",
    "        if (n_min_days < diff_exclude.days and \n",
    "                n_min_days < diff.days < 365 * n_years):\n",
    "            eids_main.append(eid)\n",
    "            \n",
    "print(len(set(eids_main)))"
   ],
   "metadata": {
    "collapsed": false
   },
   "id": "302cd6111fb8aeb9"
  },
  {
   "cell_type": "code",
   "execution_count": null,
   "outputs": [],
   "source": [
    "self_reported_cancer_dict = icdExtractor.extract_self_reported_cancer()\n",
    "icdExtractor.save_icd_code_dict(self_reported_cancer_dict, './resources/self_reported_cancer_dict.json')        "
   ],
   "metadata": {
    "collapsed": false
   },
   "id": "89d9327f756aaf5b"
  },
  {
   "cell_type": "code",
   "execution_count": null,
   "id": "072ecba5",
   "metadata": {},
   "outputs": [],
   "source": [
    "self_reported_cancer_dict = icdExtractor.load_self_reported_icd_code_dict('./resources/self_reported_cancer_dict_imaging.json')"
   ]
  },
  {
   "cell_type": "code",
   "execution_count": null,
   "outputs": [],
   "source": [
    "len(self_reported_cancer_dict)"
   ],
   "metadata": {
    "collapsed": false
   },
   "id": "99b4aebaee6921c3"
  },
  {
   "cell_type": "code",
   "execution_count": null,
   "outputs": [],
   "source": [
    "icdExtractor_self_reported = ICDExtractor(file_path_imaging, \"/home/dmitrii/GitHub/ukbb_risk_assessment/PrepareDataset/resources/self_reported_noncancer_dict_imaging.json\")\n",
    "self_reported_noncancer_dict = icdExtractor_self_reported.load_icd_code_dict()"
   ],
   "metadata": {
    "collapsed": false
   },
   "id": "fa98b2b3368aa99d"
  },
  {
   "cell_type": "code",
   "execution_count": null,
   "id": "f66744058b9ab046",
   "metadata": {
    "collapsed": false
   },
   "outputs": [],
   "source": [
    "if MODE == \"cancer\" or MODE == \"liver\" or MODE == \"pancreas\" or MODE == \"pancreas+liver\":\n",
    "    eids_self_reported_cancer = []\n",
    "    for eid in eids_main:\n",
    "        if eid in self_reported_cancer_dict:\n",
    "            diff = min(self_reported_cancer_dict[eid]) - icdExtractor.icd_code_dict[eid][interested_date]\n",
    "            #greater than 0 means the event happened after the first imaging date\n",
    "            if diff.days < n_min_days:\n",
    "                eids_self_reported_cancer.append(eid)\n",
    "    eids_main = list(set(eids_main) - set(eids_self_reported_cancer))\n",
    "elif MODE == \"ckd\" or MODE == \"copd\" or MODE == \"osteoarthritis\" or MODE == \"osteoporosis\" or MODE == \"cvd2\":\n",
    "    eids_self_reported_noncancer = []\n",
    "    for eid in eids_main:\n",
    "        icd_dates = []\n",
    "        if eid in self_reported_noncancer_dict.keys():\n",
    "            for i, icd in enumerate(self_reported_noncancer_dict[eid]['icd_codes']):\n",
    "                if icd in icd_self_reported:\n",
    "                    icd_dates.append(self_reported_noncancer_dict[eid]['icd_dates'][i])\n",
    "            if len(icd_dates) > 0:\n",
    "                diff = min(icd_dates) - icdExtractor.icd_code_dict[eid][interested_date]\n",
    "                if diff.days < n_min_days:\n",
    "                    eids_self_reported_noncancer.append(eid)\n",
    "    eids_main = list(set(eids_main) - set(eids_self_reported_noncancer))\n",
    "                \n",
    "len(eids_main)"
   ]
  },
  {
   "cell_type": "code",
   "execution_count": null,
   "id": "b2c2ca6dba67c7f5",
   "metadata": {
    "collapsed": false
   },
   "outputs": [],
   "source": [
    "# exclude the subjects that have the (extended) list of ICD codes before the first imaging date in all registers\n",
    "eids_with_icd = []\n",
    "for eid in eids_main:\n",
    "    data = icdExtractor.get_all_before_date(eid, icdExtractor.icd_code_dict[eid][interested_date])\n",
    "    for icd_code in data['icd_codes']:\n",
    "        if icd_code in icd_selector_extended:\n",
    "            eids_with_icd.append(eid)\n",
    "print(len(set(eids_with_icd)))"
   ]
  },
  {
   "cell_type": "code",
   "execution_count": null,
   "id": "57d59c12774934b5",
   "metadata": {
    "collapsed": false
   },
   "outputs": [],
   "source": [
    "eids_main = list(set(eids_main) - set(eids_with_icd))\n",
    "len(eids_main)"
   ]
  },
  {
   "cell_type": "markdown",
   "id": "2434655d6770cee8",
   "metadata": {
    "collapsed": false
   },
   "source": [
    "## Define the positive cohort (has event in any register)"
   ]
  },
  {
   "cell_type": "code",
   "execution_count": null,
   "id": "a2edb5902a1ff83f",
   "metadata": {
    "collapsed": false
   },
   "outputs": [],
   "source": [
    "eids_positive = []\n",
    "for eid, data in icdExtractor.icd_code_dict.items():\n",
    "    icd_codes = data['icd_codes']\n",
    "    code_date = []\n",
    "    for icd_code_index, icd_code in enumerate(icd_codes):\n",
    "        if icd_code in icd_selector_extended:\n",
    "            eids_positive.append(eid)\n",
    "print(len(set(eids_positive)))"
   ]
  },
  {
   "cell_type": "code",
   "execution_count": null,
   "id": "5a2c04542b6d175d",
   "metadata": {
    "collapsed": false
   },
   "outputs": [],
   "source": [
    "if MODE == \"cancer\" or MODE == \"liver\" or MODE == \"pancreas\" or MODE == \"pancreas+liver\":\n",
    "    eids_positive += list(set(list(self_reported_cancer_dict.keys())))\n",
    "elif MODE == \"ckd\" or MODE == \"copd\" or MODE == \"osteoarthritis\" or MODE == \"osteoporosis\" or MODE == \"cvd2\":\n",
    "    for eid in self_reported_noncancer_dict.keys():\n",
    "        for icd in icd_self_reported:\n",
    "            if icd in self_reported_noncancer_dict[eid]['icd_codes']:\n",
    "                eids_positive.append(eid)\n",
    "            "
   ]
  },
  {
   "cell_type": "code",
   "execution_count": null,
   "id": "30a58f9e",
   "metadata": {},
   "outputs": [],
   "source": [
    "eids_positive = list(set(eids_positive))\n",
    "print(len(set(eids_positive)))\n",
    "pd.DataFrame(eids_positive, columns=['eid']).to_csv(os.path.join(basis_file_path, \"eids_positive.csv\"), index=False)"
   ]
  },
  {
   "cell_type": "code",
   "execution_count": null,
   "id": "7286d6b5feab3546",
   "metadata": {
    "collapsed": false
   },
   "outputs": [],
   "source": [
    "PROJECT_DIR = \"put yours\" \n",
    "eids_with_mri = pd.read_csv(PROJECT_DIR + \"cancer_C00-C43_C45-C97_D37-D48/eids_all_mri.csv\")['eid'].tolist()\n",
    "\n",
    "eids_with_all_features = pd.read_csv(PROJECT_DIR + 'cancer_C00-C43_C45-C97_D37-D48/eids_with_features/eids_with_all_features.csv')['eid'].tolist()\n",
    "\n",
    "eids_with_cardiac_features = pd.read_csv(PROJECT_DIR + 'cancer_C00-C43_C45-C97_D37-D48/eids_with_features/eids_with_cardiac_features.csv')['eid'].tolist()\n",
    "\n",
    "eids_with_brain_features = pd.read_csv(PROJECT_DIR + 'cancer_C00-C43_C45-C97_D37-D48/eids_with_features/eids_with_brain_features.csv')['eid'].tolist()\n",
    "\n",
    "eids_with_wholebody_features = pd.read_csv(PROJECT_DIR + 'cancer_C00-C43_C45-C97_D37-D48/eids_with_features/eids_with_wholebody_features.csv')['eid'].tolist()\n",
    "eids_with_wholebody_images = pd.read_csv(PROJECT_DIR + \"cancer_C00-C43_C45-C97_D37-D48/eids_with_features/eids_with_wholebody_images.csv\")['eid'].tolist()\n",
    "\n",
    "eids_with_cardiac_mri = pd.read_csv(PROJECT_DIR + \"cancer_C00-C43_C45-C97_D37-D48/eids_with_cardiac_mri.csv\")[\"eid\"].tolist()\n",
    "\n",
    "eids_with_liver_mri = pd.read_csv(PROJECT_DIR + \"data/data/abdominal/liver_data/projections_all/eids_with_projections_all.csv\")[\"eid\"].tolist()\n",
    "\n",
    "eids_with_pancreas_mri = pd.read_csv(PROJECT_DIR + \"data/data/abdominal/pancreas_data/projections_all/eids_with_projections_all.csv\")[\"eid\"].tolist()\n",
    "\n",
    "eids_with_wholebody_mris = pd.read_csv(PROJECT_DIR + \"cancer_C00-C43_C45-C97_D37-D48/eids_with_features/eids_with_wholebodymris.csv\")['eid'].tolist()\n"
   ]
  },
  {
   "cell_type": "code",
   "execution_count": null,
   "id": "f8d5ae580994723f",
   "metadata": {
    "collapsed": false
   },
   "outputs": [],
   "source": [
    "eids_with_all_features = set(eids_with_all_features)\n",
    "eids_with_cardiac_features = set(eids_with_cardiac_features)\n",
    "eids_with_brain_features = set(eids_with_brain_features)\n",
    "eids_with_wholebody_features = set(eids_with_wholebody_features)\n",
    "eids_with_wholebody_images = set(eids_with_wholebody_images)\n",
    "eids_with_mri = set(eids_with_mri)\n",
    "eids_with_cardiac_mri = set(eids_with_cardiac_mri)\n",
    "eids_with_liver_mri = set(eids_with_liver_mri)\n",
    "eids_with_pancreas_mri = set(eids_with_pancreas_mri)\n",
    "eids_with_wholebody_mris = set(eids_with_wholebody_mris)"
   ]
  },
  {
   "cell_type": "code",
   "execution_count": null,
   "id": "ebaef3703cf46757",
   "metadata": {
    "collapsed": false
   },
   "outputs": [],
   "source": [
    "if MODE == \"cancer\":\n",
    "    eids_basis = set.intersection(eids_with_wholebody_images, set(icdExtractor.icd_code_dict.keys()))\n",
    "elif MODE == \"copd\" or MODE == \"ckd\" or MODE == \"osteoarthritis\" or MODE == \"osteoporosis\":\n",
    "    eids_basis = set.intersection(eids_with_wholebody_images,eids_with_wholebody_mris, set(icdExtractor.icd_code_dict.keys()))\n",
    "elif MODE == \"cvd\" or MODE == \"cvd2\":\n",
    "    eids_basis = set.intersection(eids_with_cardiac_mri, eids_with_wholebody_mris, set(icdExtractor.icd_code_dict.keys()))\n",
    "elif MODE == \"liver\"or MODE == \"pancreas+liver\":\n",
    "    eids_basis = set.intersection(eids_with_liver_mri, set(icdExtractor.icd_code_dict.keys()))\n",
    "elif MODE == \"pancreas\":\n",
    "    eids_basis = set.intersection(eids_with_pancreas_mri, set(icdExtractor.icd_code_dict.keys()))\n",
    "\n",
    "eids_main = list(set(eids_basis).intersection(set(eids_main)))"
   ]
  },
  {
   "cell_type": "code",
   "execution_count": null,
   "id": "48269f439cc50144",
   "metadata": {
    "collapsed": false
   },
   "outputs": [],
   "source": [
    "len(eids_main)"
   ]
  },
  {
   "cell_type": "code",
   "execution_count": null,
   "id": "2eec9da00dafa451",
   "metadata": {
    "collapsed": false
   },
   "outputs": [],
   "source": [
    "pd.DataFrame(eids_main, columns=['eid']).to_csv(os.path.join(basis_file_path, \"eids_main.csv\"), index=False)"
   ]
  },
  {
   "cell_type": "code",
   "execution_count": null,
   "id": "6e30241d",
   "metadata": {},
   "outputs": [],
   "source": [
    "eids_main = pd.read_csv(os.path.join(basis_file_path, \"eids_main.csv\"))['eid'].tolist()\n",
    "len(eids_main)"
   ]
  },
  {
   "cell_type": "code",
   "execution_count": null,
   "outputs": [],
   "source": [
    "len(eids_basis)"
   ],
   "metadata": {
    "collapsed": false
   },
   "id": "2c76cd4796e0e09f"
  },
  {
   "cell_type": "markdown",
   "id": "dfaa728cc29d64eb",
   "metadata": {
    "collapsed": false
   },
   "source": [
    "## Normal Cohort Definition"
   ]
  },
  {
   "cell_type": "code",
   "execution_count": null,
   "outputs": [],
   "source": [
    "eids_basis = list(icdExtractor.icd_code_dict.keys())\n",
    "len(eids_basis)"
   ],
   "metadata": {
    "collapsed": false
   },
   "id": "72d39c1f6b822ab5"
  },
  {
   "cell_type": "code",
   "execution_count": null,
   "outputs": [],
   "source": [
    "eids_basis = set(list(icdExtractor.icd_code_dict.keys())) - set(pd.read_csv(PROJECT_DIR + \"PrepareDataset/resources/cancer_redefine/labels.csv\")['eid'].tolist())\n",
    "eids_basis = list(eids_basis)\n",
    "len(eids_basis)"
   ],
   "metadata": {
    "collapsed": false
   },
   "id": "f7f6396eb4c670ea"
  },
  {
   "cell_type": "code",
   "execution_count": null,
   "id": "231f47b6a0095e3e",
   "metadata": {
    "collapsed": false
   },
   "outputs": [],
   "source": [
    "from NormalControlExtractor import NormalControlExtractor\n",
    "basic_features_path = PROJECT_DIR + \"PrepareDataset/resources/features/677795/basic_data_imaging_fields.csv\"\n",
    "normalControlExtractor = NormalControlExtractor(file_path_imaging, interested_date, basic_features_path)\n",
    "\n",
    "normalControlExtractor.set_cencoring_date(n_years, censoring_date)    \n",
    "normalControlExtractor.set_eids_pool(eids_basis)\n",
    "normalControlExtractor.set_eids_positive_cohort(eids_main)\n",
    "normalControlExtractor.set_eids_positive(eids_positive)\n",
    "\n",
    "sex_field = [\"31-0.0\"]\n",
    "age_field = [\"21003-2.0\"] \n",
    "bmi_field = [\"21001-2.0\"] \n",
    "ethnicity = ['21000-0.0']\n",
    "propensity_attributes = bmi_field + sex_field + age_field + ethnicity\n",
    "normalControlExtractor.set_propensity_attributes(propensity_attributes)"
   ]
  },
  {
   "cell_type": "code",
   "execution_count": null,
   "outputs": [],
   "source": [
    "# only if you already have eids_selectes\n",
    "from NormalControlExtractor import NormalControlExtractor\n",
    "basic_features_path = PROJECT_DIR + \"PrepareDataset/resources/features/677795/basic_data.csv\"\n",
    "eids_main = pd.read_csv(PROJECT_DIR + \"resources/cancer_all_redefine/eids_main.csv\")['eid'].tolist()\n",
    "eids_selected = pd.read_csv(PROJECT_DIR + \"resources/cancer_all_redefine/eids_selected_normal_control.csv\")['eid'].tolist()\n",
    "normalControlExtractor = NormalControlExtractor(file_path_imaging, interested_date, basic_features_path)\n",
    "normalControlExtractor.set_eids_positive_cohort(eids_main)\n",
    "\n",
    "sex_field = [\"31-0.0\"]\n",
    "age_field = [\"21003-0.0\"] \n",
    "bmi_field = [\"21001-0.0\"] \n",
    "ethnicity = ['21000-0.0']\n",
    "propensity_attributes = sex_field + age_field + bmi_field + ethnicity\n",
    "normalControlExtractor.set_propensity_attributes(propensity_attributes)\n",
    "\n",
    "matched_dataset = normalControlExtractor.extract_normal_control(eids_selected)\n",
    "matched_dataset.to_csv(os.path.join(basis_file_path, \"matched_dataset.csv\"), index=False)"
   ],
   "metadata": {
    "collapsed": false
   },
   "id": "d3867d5a2e449a4b"
  },
  {
   "cell_type": "code",
   "execution_count": null,
   "id": "50d5d954ad24176b",
   "metadata": {
    "collapsed": false
   },
   "outputs": [],
   "source": [
    "matched_dataset = normalControlExtractor.extract()\n",
    "matched_dataset.to_csv(os.path.join(basis_file_path, \"matched_dataset.csv\"), index=False)"
   ]
  },
  {
   "cell_type": "code",
   "execution_count": null,
   "id": "ca1e6da3cc21dc56",
   "metadata": {
    "collapsed": false
   },
   "outputs": [],
   "source": [
    "icdExtractor.save_all_with_eids(matched_dataset['eid'].tolist(), os.path.join(basis_file_path, \"final_cohort.csv\"))"
   ]
  },
  {
   "cell_type": "markdown",
   "id": "618f2db99cdc957",
   "metadata": {
    "collapsed": false
   },
   "source": [
    "## Label Definition and train test split"
   ]
  },
  {
   "cell_type": "code",
   "execution_count": null,
   "id": "2284a268f3e59f55",
   "metadata": {
    "collapsed": false
   },
   "outputs": [],
   "source": [
    "# split matched dataset into train and test by the label column status using stratified sklearn method train_test_split and create a column split where train and test are assigned\n",
    "file_path_matched_dataset = os.path.join(basis_file_path, 'matched_dataset.csv')\n",
    "matched_dataset = pd.read_csv(file_path_matched_dataset)\n",
    "\n",
    "from sklearn.model_selection import train_test_split\n",
    "matched_dataset_train, matched_dataset_test = train_test_split(matched_dataset, test_size=0.2, stratify=matched_dataset['status'], random_state=42)\n",
    "matched_dataset_train['split'] = 'train'\n",
    "matched_dataset_test['split'] = 'test'\n",
    "matched_dataset = pd.concat([matched_dataset_train, matched_dataset_test])\n",
    "matched_dataset.to_csv(file_path_matched_dataset, index=False)"
   ]
  },
  {
   "cell_type": "code",
   "execution_count": null,
   "outputs": [],
   "source": [
    "len(matched_dataset)"
   ],
   "metadata": {
    "collapsed": false
   },
   "id": "625587149a519754"
  },
  {
   "cell_type": "code",
   "execution_count": null,
   "id": "27fc824675edbe88",
   "metadata": {
    "collapsed": false
   },
   "outputs": [],
   "source": [
    "labels_dict = {}\n",
    "for eid in matched_dataset['eid'].tolist():\n",
    "    event = matched_dataset[matched_dataset['eid'] == eid]['status'].values[0]\n",
    "    split = matched_dataset[matched_dataset['eid'] == eid]['split'].values[0]\n",
    "    data = icdExtractor.icd_code_dict[eid]\n",
    "    if event == 1:\n",
    "        code_date = []\n",
    "        for icd_code_index, icd_code in enumerate(data[\"icd_codes\"]):\n",
    "            if (icd_code in icd_selector) and (data['icd_origin'][icd_code_index] in icd_origin):\n",
    "                code_date.append(data['icd_dates'][icd_code_index])\n",
    "        time_to_event = min(code_date) - data[interested_date]\n",
    "    else:\n",
    "        time_to_event = censoring_date - data[interested_date]\n",
    "    labels_dict[eid] = {'event': event, 'time_to_event': time_to_event.days, 'split': split}"
   ]
  },
  {
   "cell_type": "code",
   "execution_count": null,
   "outputs": [],
   "source": [
    "base_path = basis_file_path + \"/\"\n",
    "eids_main_csv = base_path + \"labels.csv\"\n",
    "labels = pd.read_csv(eids_main_csv)\n",
    "seed = 42\n",
    "from sklearn.model_selection import train_test_split\n",
    "labels_train = labels[labels['split'] == 'train']\n",
    "labels_test = labels[labels['split'] == 'test']\n",
    "labels_train_train, labels_train_val = train_test_split(labels_train, test_size=0.1, stratify=labels_train['event'], random_state=seed)\n",
    "labels_train_val['split'] = 'val'\n",
    "# concat train and val and test\n",
    "labels_res = pd.concat([labels_train_train, labels_train_val, labels_test])\n",
    "labels_res.to_csv(base_path + \"labels_with_val.csv\", index=False)"
   ],
   "metadata": {
    "collapsed": false
   },
   "id": "1fdc3f4dfb9d1504"
  }
 ],
 "metadata": {
  "kernelspec": {
   "display_name": "Python 3",
   "language": "python",
   "name": "python3"
  },
  "language_info": {
   "codemirror_mode": {
    "name": "ipython",
    "version": 3
   },
   "file_extension": ".py",
   "mimetype": "text/x-python",
   "name": "python",
   "nbconvert_exporter": "python",
   "pygments_lexer": "ipython3",
   "version": "3.10.13"
  }
 },
 "nbformat": 4,
 "nbformat_minor": 5
}
