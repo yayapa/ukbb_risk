{
 "cells": [
  {
   "cell_type": "code",
   "execution_count": 1,
   "id": "initial_id",
   "metadata": {
    "collapsed": true,
    "ExecuteTime": {
     "end_time": "2024-05-10T13:04:21.060761623Z",
     "start_time": "2024-05-10T13:04:14.477086009Z"
    }
   },
   "outputs": [],
   "source": [
    "import pandas as pd\n",
    "feature_base_dir = \"./data/ukbb_cardiac_features/\"\n",
    "table_aortic_area = pd.read_csv(feature_base_dir + \"table_aortic_area.csv\")\n",
    "table_atrial_volume = pd.read_csv(feature_base_dir + \"table_atrial_volume.csv\")\n",
    "table_ventricular_volume = pd.read_csv(feature_base_dir + \"table_ventricular_volume.csv\")\n",
    "table_wall_thickness = pd.read_csv(feature_base_dir + \"table_wall_thickness.csv\")\n"
   ]
  },
  {
   "cell_type": "code",
   "execution_count": 9,
   "outputs": [],
   "source": [
    "#rename Unnamed: 0 to eid\n",
    "table_aortic_area = table_aortic_area.rename(columns={\"Unnamed: 0\": \"eid\"})\n",
    "table_atrial_volume = table_atrial_volume.rename(columns={\"Unnamed: 0\": \"eid\"})\n",
    "table_ventricular_volume = table_ventricular_volume.rename(columns={\"Unnamed: 0\": \"eid\"})\n",
    "table_wall_thickness = table_wall_thickness.rename(columns={\"Unnamed: 0\": \"eid\"})"
   ],
   "metadata": {
    "collapsed": false,
    "ExecuteTime": {
     "end_time": "2024-05-10T13:05:43.570241493Z",
     "start_time": "2024-05-10T13:05:43.551433475Z"
    }
   },
   "id": "b75104f58dd1cedd"
  },
  {
   "cell_type": "code",
   "execution_count": 10,
   "outputs": [],
   "source": [
    "# outer join of all tables\n",
    "table_all = table_aortic_area.merge(table_atrial_volume, on=\"eid\", how=\"outer\")\n",
    "table_all = table_all.merge(table_ventricular_volume, on=\"eid\", how=\"outer\")\n",
    "table_all = table_all.merge(table_wall_thickness, on=\"eid\", how=\"outer\")\n",
    "table_all.to_csv(\"./resources/cardiac_features/table_all.csv\", index=False)"
   ],
   "metadata": {
    "collapsed": false,
    "ExecuteTime": {
     "end_time": "2024-05-10T13:05:47.404744554Z",
     "start_time": "2024-05-10T13:05:46.233853809Z"
    }
   },
   "id": "66c2c45c811b1395"
  },
  {
   "cell_type": "code",
   "execution_count": 29,
   "outputs": [],
   "source": [
    "table_all = pd.read_csv(\"./resources/cardiac_features/table_all.csv\")"
   ],
   "metadata": {
    "collapsed": false,
    "ExecuteTime": {
     "end_time": "2024-05-10T13:15:49.016006051Z",
     "start_time": "2024-05-10T13:15:48.859110329Z"
    }
   },
   "id": "55450f985b1e8324"
  },
  {
   "cell_type": "code",
   "execution_count": 30,
   "outputs": [
    {
     "name": "stderr",
     "output_type": "stream",
     "text": [
      "/tmp/ipykernel_27695/4044801779.py:1: DtypeWarning: Columns (1188,1260,2766,2767,2768,2769,2770,2771,2772,2773,2774,2775,2776,2777,2778,2779,2780,2781,2782,2783,2784,2785,2883,2884,2885,2886,2887,2888,2889,2890,2891,2892,2893,2894,2895,2896,2897,2898,2899,2900,2901,2902,2903,2994,2995,2996,2997,2998,2999,3000,3001,3002,3003,3004,3005,3006,3007,3008,3009,3010,3011,3012,3013,3111,3112,3113,3114,3115,3116,3117,3118,3119,3120,3121,3122,3123,3124,3125,3126,3127,3128,3129,3130,3131,3768,3769,3770,3771,3849,3850,3851,3861,3862,3863,3878,3879,3883,3884,5413,5414,5419,5420,5421,5422,5423,5424,5425,5473,6354,8175,8177,8179,8180,8181,8182,8183,8184,8185,8209,8210,8211,8212,8231,8232,8276,8360,8364,8365,8366,8367,8385,8397,8398,8399,8400,8401,8402,8403,8404,8405,8406,8407,8408,8409,8410,8445,8446,8476,8477,8478,8479,8480,8481,8482,8483,8484,8485,8486,8544,8547,8549,8597,8598,8599,8600,8601,8602,8603,8604,8605,8606,8607,8608,8609,8610,8611,8612,8613,8614,8615,8616,8617,8618,8619,8620,8621,8622,8623,8624,8625,8626,8627,8628,8629,8630,8631,8632,8633,8634,8635,8636,8637,8638,8639,8640,8641,8642,8643,8644,8645,8646,8647,8648,8649,8650,8651,8652,8653,8654,8655,8656,8657,8658,8659,8660,8661,8662,8663,8664,8665,8666,8760,8761,8762,8763,8764,8797,8818,8819,8820,8821,8822,8823,8824,8825,8826,8841,8842,8843,8862,8863,8864,8865,8866,8867,8868,8869,8870,8871,8872,8873,8874,8875,8876,8877,8878,8879,8880,8881,8882,8883,8884,8885,8886,8887,8888,8889,8890,8945,8955,8956,8957,8958,8959,8960,8961,8962,9000,9001,9034,9035,9041,9042,9058,9188,9189,9216,9217,9218,9219,9220,9221,9222,9223,9224,9225,9226,9227,9228,9229,9273,9274,9275,9276,9277,9278,9279,9280,9281,9282,9283,9341,9342,9343,9344,9345,9346,9398,9399,9400,9401,9402,9403,9404,9405,9406,9407,9408,9409,9410,9411,9412,9413,9414,9415,9416,9417,9418,9419,9420,9421,9422,9423,9424,9425,9426,9427,9428,9429,9430,9431,9432,9433,9434,9435,9436,9437,9438,9439,9440,9441,9442,9443,9444,9445,9446,9447,9448,9449,9450,9451,9452,9453,9454,9455,9456,9457,9458,9459,9460,9461,9462,9463,9464,9465,9466,9467,9468,9469,9470,9471,9472,9473,9612,9613,9614,9615,9616,9617,9618,9619,9620,9686,9687,9688,9689,9690,9691,9692,9693,9694,9695,9696,9697,9698,9699,9700,9701,9702,9703,9704,9705,9706,9707,9708,9709,9710,9711,9828,9829,9830,9831,9832,9833,9834,9835,9836,9837,9838,9839,9840,9841,9842,9843,9844,9845,9846,9847,9848,9849,9850,9851,9852,9853,9854,9855,9856,9857,9858,9859,9860,9861,9862,9863,9864,9865,9866,9867,9868,9869,9870,9871,9872,9873,9874,9875,9876,9877,9878,9879,9880,9881,9882,9883,9884,9885,9886,9887,9888,9889,9890,9891,9892,9893,9894,9895,9896,9897,9898,9899,9900,9901,9902,9903,10042,10043,10044,10045,10046,10047,10048,10049,10050,10116,10117,10118,10119,10120,10121,10122,10123,10124,10125,10126,10127,10128,10129,10130,10131,10132,10133,10134,10135,10136,10137,10138,10139,10140,10141,10213,10214,10229,10230,10231,10234,10235,10238,10239,10240,10241,10244,10245,10246,10355,10356,10357,10361,10364,10367,10369,10370,10372,10374,10375,10376,10377,10380,10381,10382,10383,10384,10385,10387,10389,10392,10394,10395,10399,10401,10402,10405,10406,10407,10409,10412) have mixed types. Specify dtype option on import or set low_memory=False.\n",
      "  cohort_eid = pd.read_csv(\"./resources/cvd/final_cohort.csv\")[\"eid\"].tolist()\n"
     ]
    },
    {
     "data": {
      "text/plain": "1514"
     },
     "execution_count": 30,
     "metadata": {},
     "output_type": "execute_result"
    }
   ],
   "source": [
    "cohort_eid = pd.read_csv(\"./resources/cvd/final_cohort.csv\")[\"eid\"].tolist()\n",
    "len(cohort_eid)"
   ],
   "metadata": {
    "collapsed": false,
    "ExecuteTime": {
     "end_time": "2024-05-10T13:15:55.528072741Z",
     "start_time": "2024-05-10T13:15:53.537886635Z"
    }
   },
   "id": "336e9bf9b5d55da3"
  },
  {
   "cell_type": "code",
   "execution_count": 31,
   "outputs": [],
   "source": [
    "cardiac_features = table_all[table_all[\"eid\"].isin(cohort_eid)]"
   ],
   "metadata": {
    "collapsed": false,
    "ExecuteTime": {
     "end_time": "2024-05-10T13:16:02.444749762Z",
     "start_time": "2024-05-10T13:16:02.432423324Z"
    }
   },
   "id": "fd9368b36ed774f0"
  },
  {
   "cell_type": "code",
   "execution_count": 32,
   "outputs": [],
   "source": [
    "cardiac_features = pd.DataFrame(cohort_eid, columns=[\"eid\"]).merge(cardiac_features, on=\"eid\", how=\"left\")"
   ],
   "metadata": {
    "collapsed": false,
    "ExecuteTime": {
     "end_time": "2024-05-10T13:16:06.035178386Z",
     "start_time": "2024-05-10T13:16:06.030046498Z"
    }
   },
   "id": "39e691497b321060"
  },
  {
   "cell_type": "code",
   "execution_count": 35,
   "outputs": [
    {
     "data": {
      "text/plain": "0"
     },
     "execution_count": 35,
     "metadata": {},
     "output_type": "execute_result"
    }
   ],
   "source": [
    "# number of rows that have all nans\n",
    "cardiac_features.isnull().all(axis=1).sum()"
   ],
   "metadata": {
    "collapsed": false,
    "ExecuteTime": {
     "end_time": "2024-05-10T13:18:08.226307665Z",
     "start_time": "2024-05-10T13:18:08.181411021Z"
    }
   },
   "id": "615d4e8d6728ae89"
  },
  {
   "cell_type": "code",
   "execution_count": 36,
   "outputs": [],
   "source": [
    "cardiac_features.to_csv(\"./resources/cvd/cardiac_features.csv\", index=False)"
   ],
   "metadata": {
    "collapsed": false,
    "ExecuteTime": {
     "end_time": "2024-05-10T13:18:23.773886158Z",
     "start_time": "2024-05-10T13:18:23.704339282Z"
    }
   },
   "id": "57326bdb054d2cd7"
  }
 ],
 "metadata": {
  "kernelspec": {
   "display_name": "Python 3",
   "language": "python",
   "name": "python3"
  },
  "language_info": {
   "codemirror_mode": {
    "name": "ipython",
    "version": 2
   },
   "file_extension": ".py",
   "mimetype": "text/x-python",
   "name": "python",
   "nbconvert_exporter": "python",
   "pygments_lexer": "ipython2",
   "version": "2.7.6"
  }
 },
 "nbformat": 4,
 "nbformat_minor": 5
}
